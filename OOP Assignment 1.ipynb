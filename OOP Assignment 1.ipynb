{
 "cells": [
  {
   "cell_type": "markdown",
   "id": "e4c8d79f-95ec-4a5f-8a01-f32822577276",
   "metadata": {},
   "source": [
    "Q1. Explain Class and Object with respect to Object-Oriented Programming. Give a suitable example."
   ]
  },
  {
   "cell_type": "markdown",
   "id": "c43e21a4-ae84-44bc-9343-88cc4fc2cd51",
   "metadata": {},
   "source": [
    "Class:\n",
    "    Class in python is considered as blueprint of the objects,which contains the behaviour and properties of the class.class keyword is used to define the class\n",
    "    \n",
    "For example,"
   ]
  },
  {
   "cell_type": "code",
   "execution_count": 6,
   "id": "818f2890-60ca-4f90-80cd-d3d9ae4b0419",
   "metadata": {},
   "outputs": [],
   "source": [
    "class physicswallah:\n",
    "    pass"
   ]
  },
  {
   "cell_type": "markdown",
   "id": "e4935b4b-8ecb-4449-a6cd-587ce02dd1bc",
   "metadata": {},
   "source": [
    "Object: Object is the instance of the class\n",
    "\n",
    "For example,"
   ]
  },
  {
   "cell_type": "code",
   "execution_count": 7,
   "id": "df4bec2a-40ea-4d9f-94de-7b6b9fa3ffb0",
   "metadata": {},
   "outputs": [],
   "source": [
    "pw = physicswallah"
   ]
  },
  {
   "cell_type": "markdown",
   "id": "af21da40-f3de-4153-a8ae-2dbc2d4a4595",
   "metadata": {},
   "source": [
    "Q2. Name the four pillars of OOPs."
   ]
  },
  {
   "cell_type": "markdown",
   "id": "cb924fcb-01ff-44ba-9f89-76a128d167be",
   "metadata": {},
   "source": [
    "Four pillars of the OOPs are encapsulation,abstraction,polymorphism,inheritance"
   ]
  },
  {
   "cell_type": "markdown",
   "id": "c2302b7f-05e6-4ecd-a06c-0f8213f1d7b2",
   "metadata": {},
   "source": [
    "Q3. Explain why the __init__() function is used. Give a suitable example."
   ]
  },
  {
   "cell_type": "markdown",
   "id": "9e34ab29-dc07-4329-ae30-63911a83248a",
   "metadata": {},
   "source": [
    "__init__() function is basically a constructor .This function lets the class to initialize the object attribute.This function is defined within the class\n",
    "\n",
    "\n",
    "For example,"
   ]
  },
  {
   "cell_type": "code",
   "execution_count": 4,
   "id": "420130dc-0ed1-479c-af7b-7612008bef42",
   "metadata": {},
   "outputs": [],
   "source": [
    "class institute():\n",
    "    def __init__(self,name):\n",
    "        self.name = name\n",
    "    \n",
    "    def print_name(self):\n",
    "        print(\"The name of the institute is\",self.name)"
   ]
  },
  {
   "cell_type": "code",
   "execution_count": 5,
   "id": "40c60a1b-3738-48b1-b178-34bea4c3d52b",
   "metadata": {},
   "outputs": [],
   "source": [
    "pw = institute(\"pw skills\")"
   ]
  },
  {
   "cell_type": "code",
   "execution_count": 6,
   "id": "9d02ed60-a088-4d0f-b4f0-d2a16c454b89",
   "metadata": {},
   "outputs": [
    {
     "name": "stdout",
     "output_type": "stream",
     "text": [
      "The name of the institute is pw skills\n"
     ]
    }
   ],
   "source": [
    "pw.print_name()"
   ]
  },
  {
   "cell_type": "markdown",
   "id": "12e2e124-f726-414b-a6a9-d28d160d65df",
   "metadata": {},
   "source": [
    "Q4. Why self is used in OOPs?\n",
    "\n",
    "self represents the instance of the class. By using the “self” we can access the attributes and methods of the class in python. It binds the attributes with the given arguments.\n"
   ]
  },
  {
   "cell_type": "markdown",
   "id": "e5f94eee-2fed-4628-8b75-767e7f0fef9d",
   "metadata": {},
   "source": [
    "Q5. What is inheritance? Give an example for each type of inheritance."
   ]
  },
  {
   "cell_type": "markdown",
   "id": "c0fc299e-8170-4a47-be80-a6809105ac6a",
   "metadata": {},
   "source": [
    "Inheritance means a class which inherit all the properties of another class\n",
    "There are five types of inheritance in python single inheritance ,multiple inheritance,multilevel inheritance,hierchial inheritance,hybrid inheritance"
   ]
  },
  {
   "cell_type": "code",
   "execution_count": 7,
   "id": "04a82a1d-4812-4f28-bbcf-cfeeadb28b4c",
   "metadata": {},
   "outputs": [],
   "source": [
    "#Single inheritance\n",
    "class cricket:\n",
    "    def __init__(self,name):\n",
    "        self.name = name\n",
    "    \n",
    "    def team_name(self):\n",
    "        print(\"Name of the team is\",self.name)"
   ]
  },
  {
   "cell_type": "code",
   "execution_count": 8,
   "id": "959b0823-448c-436d-a1ca-cdc20be0d24b",
   "metadata": {},
   "outputs": [],
   "source": [
    "class ipl(cricket):\n",
    "    pass"
   ]
  },
  {
   "cell_type": "code",
   "execution_count": 9,
   "id": "353c3b16-ad26-4907-b99d-06470a4f4802",
   "metadata": {},
   "outputs": [],
   "source": [
    "rcb = ipl(\"Royal Challengers Banglore\")"
   ]
  },
  {
   "cell_type": "code",
   "execution_count": 10,
   "id": "fbc543ef-45c9-4b1c-99b9-3e2310c431f5",
   "metadata": {},
   "outputs": [
    {
     "name": "stdout",
     "output_type": "stream",
     "text": [
      "Name of the team is Royal Challengers Banglore\n"
     ]
    }
   ],
   "source": [
    "rcb.team_name()"
   ]
  },
  {
   "cell_type": "code",
   "execution_count": 30,
   "id": "57edeefa-07aa-4057-8b02-762f47eae348",
   "metadata": {},
   "outputs": [],
   "source": [
    "#Multiple inheritance\n",
    "class mother:\n",
    "    def mother_name(self):\n",
    "        print(\"My name is Maya \")"
   ]
  },
  {
   "cell_type": "code",
   "execution_count": 31,
   "id": "84dd7180-1946-4dc4-9576-ce6d92757f5b",
   "metadata": {},
   "outputs": [],
   "source": [
    "class father:\n",
    "    def father_name(self):\n",
    "        print(\"My name is Vijay\")"
   ]
  },
  {
   "cell_type": "code",
   "execution_count": 32,
   "id": "e7af82d8-d6ba-4d3b-b451-11701c40ec91",
   "metadata": {},
   "outputs": [],
   "source": [
    "class child(mother,father):\n",
    "    def child_name(self):\n",
    "        print(\"My name is Anjali\")"
   ]
  },
  {
   "cell_type": "code",
   "execution_count": 36,
   "id": "703aae32-1196-4b20-9276-a3e6a4f406a2",
   "metadata": {},
   "outputs": [],
   "source": [
    "c = child()"
   ]
  },
  {
   "cell_type": "code",
   "execution_count": 37,
   "id": "8e46e0a8-aad3-4d59-b04a-1f7f89e8d762",
   "metadata": {},
   "outputs": [
    {
     "name": "stdout",
     "output_type": "stream",
     "text": [
      "My name is Maya \n"
     ]
    }
   ],
   "source": [
    "c.mother_name()"
   ]
  },
  {
   "cell_type": "code",
   "execution_count": 38,
   "id": "6486ac21-caf8-4a33-b97d-f203e8ab25b3",
   "metadata": {},
   "outputs": [
    {
     "name": "stdout",
     "output_type": "stream",
     "text": [
      "My name is Vijay\n"
     ]
    }
   ],
   "source": [
    "c.father_name()"
   ]
  },
  {
   "cell_type": "code",
   "execution_count": 39,
   "id": "5f147793-ac3f-4461-a53f-912db5a7b0e1",
   "metadata": {},
   "outputs": [
    {
     "name": "stdout",
     "output_type": "stream",
     "text": [
      "My name is Anjali\n"
     ]
    }
   ],
   "source": [
    "c.child_name()"
   ]
  },
  {
   "cell_type": "code",
   "execution_count": 40,
   "id": "14eeb8d1-723b-4691-bbd3-492969f6f305",
   "metadata": {},
   "outputs": [],
   "source": [
    "#Multilevel inheritance\n",
    "class grandfather:\n",
    "    def name(self):\n",
    "        print(\"My name is Aditya\")"
   ]
  },
  {
   "cell_type": "code",
   "execution_count": 41,
   "id": "e5c5b1c0-77bc-46aa-9dc8-1bb28ba3e386",
   "metadata": {},
   "outputs": [],
   "source": [
    "class father(grandfather):\n",
    "    def father_name(self):\n",
    "        print(\"My name is Vijay\")"
   ]
  },
  {
   "cell_type": "code",
   "execution_count": 42,
   "id": "eff9acc2-dc71-4430-831b-903b31d48817",
   "metadata": {},
   "outputs": [],
   "source": [
    "class child(father):\n",
    "    def child_name(self):\n",
    "        print(\"My name is Anjali\")"
   ]
  },
  {
   "cell_type": "code",
   "execution_count": 43,
   "id": "a4efdf86-0699-4b4e-8df5-e0bb486e1e0b",
   "metadata": {},
   "outputs": [],
   "source": [
    "abc = child()"
   ]
  },
  {
   "cell_type": "code",
   "execution_count": 44,
   "id": "6533c777-48b0-41d5-bc9d-d6708e630313",
   "metadata": {},
   "outputs": [
    {
     "name": "stdout",
     "output_type": "stream",
     "text": [
      "My name is Aditya\n"
     ]
    }
   ],
   "source": [
    "abc.name()"
   ]
  },
  {
   "cell_type": "code",
   "execution_count": 45,
   "id": "6ac558ac-a54d-41ee-9ca9-caca642d26ae",
   "metadata": {},
   "outputs": [
    {
     "name": "stdout",
     "output_type": "stream",
     "text": [
      "My name is Vijay\n"
     ]
    }
   ],
   "source": [
    "abc.father_name()"
   ]
  },
  {
   "cell_type": "code",
   "execution_count": 46,
   "id": "25965744-b9e7-455a-bb79-942ccedbd5ab",
   "metadata": {},
   "outputs": [
    {
     "name": "stdout",
     "output_type": "stream",
     "text": [
      "My name is Anjali\n"
     ]
    }
   ],
   "source": [
    "abc.child_name()"
   ]
  },
  {
   "cell_type": "code",
   "execution_count": 48,
   "id": "a8ede21f-71f5-4649-8333-7edb36714caa",
   "metadata": {},
   "outputs": [],
   "source": [
    "#Hierarchical inheritance\n",
    "class cricket:\n",
    "    def __init__(self,name):\n",
    "        self.name = name\n",
    "        \n",
    "    def tournament_name(self):\n",
    "        print(\"Name of tournament is\",self.name)\n",
    "        "
   ]
  },
  {
   "cell_type": "code",
   "execution_count": 57,
   "id": "a1ecccc7-1eaa-4541-8570-d215c3856bd4",
   "metadata": {},
   "outputs": [],
   "source": [
    "class IPL(cricket):\n",
    "    def team_name(self,team_name):\n",
    "        self.team_name = team_name\n",
    "        return team_name"
   ]
  },
  {
   "cell_type": "code",
   "execution_count": 58,
   "id": "c2c71395-1a29-4c4e-9daa-447a8063a220",
   "metadata": {},
   "outputs": [],
   "source": [
    "class Worldcup(cricket):\n",
    "    def team_name(self,team_name):\n",
    "        self.team_name = team_name\n",
    "        return team_name"
   ]
  },
  {
   "cell_type": "code",
   "execution_count": 59,
   "id": "742bc262-6247-431f-906a-dac57bc2fcf6",
   "metadata": {},
   "outputs": [],
   "source": [
    "w = Worldcup(\"World cup\")"
   ]
  },
  {
   "cell_type": "code",
   "execution_count": 60,
   "id": "4f654b39-991a-4f56-a308-23710939f648",
   "metadata": {},
   "outputs": [
    {
     "name": "stdout",
     "output_type": "stream",
     "text": [
      "Name of tournament is World cup\n"
     ]
    }
   ],
   "source": [
    "w.tournament_name()"
   ]
  },
  {
   "cell_type": "code",
   "execution_count": 61,
   "id": "9d876cc6-f2fa-432a-ae13-52c895213d1e",
   "metadata": {},
   "outputs": [
    {
     "data": {
      "text/plain": [
       "'India'"
      ]
     },
     "execution_count": 61,
     "metadata": {},
     "output_type": "execute_result"
    }
   ],
   "source": [
    "w.team_name(\"India\")"
   ]
  },
  {
   "cell_type": "code",
   "execution_count": null,
   "id": "0c1213a8-ad9d-4c3a-9e95-ac6ac427b37b",
   "metadata": {},
   "outputs": [],
   "source": []
  }
 ],
 "metadata": {
  "kernelspec": {
   "display_name": "Python 3 (ipykernel)",
   "language": "python",
   "name": "python3"
  },
  "language_info": {
   "codemirror_mode": {
    "name": "ipython",
    "version": 3
   },
   "file_extension": ".py",
   "mimetype": "text/x-python",
   "name": "python",
   "nbconvert_exporter": "python",
   "pygments_lexer": "ipython3",
   "version": "3.10.8"
  }
 },
 "nbformat": 4,
 "nbformat_minor": 5
}
