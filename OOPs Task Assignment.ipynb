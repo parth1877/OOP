{
 "cells": [
  {
   "cell_type": "markdown",
   "id": "fb8c0ebe-5366-4d8d-8475-945094c2db91",
   "metadata": {},
   "source": [
    "Q1, Create a vehicle class with an init method having instance variables as name_of_vehicle, max_speed\n",
    "and average_of_vehicle."
   ]
  },
  {
   "cell_type": "code",
   "execution_count": 24,
   "id": "7293fc1f-c8c7-4265-a19a-42c1f2045be5",
   "metadata": {},
   "outputs": [],
   "source": [
    "class vehicle :\n",
    "    def __init__(self,name_of_vehicle,max_speed,average_of_vehicle):\n",
    "        self.name = name_of_vehicle\n",
    "        self.speed = max_speed\n",
    "        self.avg = average_of_vehicle\n",
    "    \n",
    "    def get_info(self):\n",
    "        return self.name,self.speed,self.avg"
   ]
  },
  {
   "cell_type": "code",
   "execution_count": 25,
   "id": "61f507c3-2f36-4aff-8b3e-51a7f2698d4f",
   "metadata": {},
   "outputs": [
    {
     "data": {
      "text/plain": [
       "('XUV 700', 200, 16)"
      ]
     },
     "execution_count": 25,
     "metadata": {},
     "output_type": "execute_result"
    }
   ],
   "source": [
    "vehicl = vehicle(\"XUV 700\",200,16)\n",
    "vehicl.get_info()"
   ]
  },
  {
   "cell_type": "markdown",
   "id": "5be928b9-5714-425d-8ef2-47c0f2a2f820",
   "metadata": {},
   "source": [
    "Q2. Create a child class car from the vehicle class created in Que 1, which will inherit the vehicle class.\n",
    "Create a method named seating_capacity which takes capacity as an argument and returns the name of\n",
    "the vehicle and its seating capacity."
   ]
  },
  {
   "cell_type": "code",
   "execution_count": 48,
   "id": "b0be7e30-9a67-40ca-a7c9-2d88e6c831b4",
   "metadata": {},
   "outputs": [],
   "source": [
    "class car(vehicle):\n",
    "    def seating_capacity(self,capacity):\n",
    "        return self.name,capacity"
   ]
  },
  {
   "cell_type": "code",
   "execution_count": 49,
   "id": "6c7d9d59-931d-4ccd-8f0c-5ed1ba7d3be1",
   "metadata": {},
   "outputs": [],
   "source": [
    "c = car(\"XUV 700\",200,16)"
   ]
  },
  {
   "cell_type": "code",
   "execution_count": 50,
   "id": "99dff5cb-d68f-4095-816e-fbbbcae9d677",
   "metadata": {},
   "outputs": [
    {
     "data": {
      "text/plain": [
       "('XUV 700', 10)"
      ]
     },
     "execution_count": 50,
     "metadata": {},
     "output_type": "execute_result"
    }
   ],
   "source": [
    "c.seating_capacity(10)"
   ]
  },
  {
   "cell_type": "markdown",
   "id": "3c540554-f3f6-46d9-87c6-09a4816e4cc1",
   "metadata": {},
   "source": [
    "Q3. What is multiple inheritance? Write a python code to demonstrate multiple inheritance."
   ]
  },
  {
   "cell_type": "markdown",
   "id": "2dd9ac62-ed1a-45ce-86c9-a2596ca437a1",
   "metadata": {},
   "source": [
    "--> A class which is derived from more than one class is called multiple inheritance."
   ]
  },
  {
   "cell_type": "code",
   "execution_count": 5,
   "id": "40838977-bb8d-491b-b5fd-ed8dd0dad7bc",
   "metadata": {},
   "outputs": [],
   "source": [
    "class city:\n",
    "    def city_name(self,name):\n",
    "        self.name = name\n",
    "        return self.name"
   ]
  },
  {
   "cell_type": "code",
   "execution_count": 6,
   "id": "81742d72-4c5d-4f0a-bef0-637eaf65ed5a",
   "metadata": {},
   "outputs": [],
   "source": [
    "class university:\n",
    "    def university_name(self,uni_name):\n",
    "        self.uni_name = uni_name\n",
    "        return self.uni_name"
   ]
  },
  {
   "cell_type": "code",
   "execution_count": 7,
   "id": "53bba691-11bb-410a-987d-eb82b551a281",
   "metadata": {},
   "outputs": [],
   "source": [
    "class IIT(city,university):\n",
    "    pass"
   ]
  },
  {
   "cell_type": "code",
   "execution_count": 8,
   "id": "33e0bdef-e87a-4bef-b35c-b85a016c8119",
   "metadata": {},
   "outputs": [],
   "source": [
    "college = IIT()"
   ]
  },
  {
   "cell_type": "code",
   "execution_count": 10,
   "id": "7f95f19b-3538-4145-9f0b-08ea9946d183",
   "metadata": {},
   "outputs": [
    {
     "data": {
      "text/plain": [
       "'Mumbai'"
      ]
     },
     "execution_count": 10,
     "metadata": {},
     "output_type": "execute_result"
    }
   ],
   "source": [
    "college.city_name(\"Mumbai\")"
   ]
  },
  {
   "cell_type": "code",
   "execution_count": 11,
   "id": "a76aa0bd-ccf5-44ef-b53c-45ef9f4ac8dd",
   "metadata": {},
   "outputs": [
    {
     "data": {
      "text/plain": [
       "'Mumbai university'"
      ]
     },
     "execution_count": 11,
     "metadata": {},
     "output_type": "execute_result"
    }
   ],
   "source": [
    "college.university_name(\"Mumbai university\")"
   ]
  },
  {
   "cell_type": "markdown",
   "id": "ac4f4170-f5bd-4bd6-af94-2970869c11dd",
   "metadata": {},
   "source": [
    "Q4. What are getter and setter in python? Create a class and create a getter and a setter method in this\n",
    "class."
   ]
  },
  {
   "cell_type": "markdown",
   "id": "01f0a6fa-7f32-4a81-b7b7-243ccd00ff3d",
   "metadata": {},
   "source": [
    "-->Getters and setters are used in encapsulation.This is indirect method to modify the data in our program.\n",
    "   If we don't want to give direct access to modify the data to user then we user getters and setters "
   ]
  },
  {
   "cell_type": "code",
   "execution_count": 12,
   "id": "bc3468e8-f8df-43b1-b715-ad2b2e4f3c98",
   "metadata": {},
   "outputs": [],
   "source": [
    "class info:\n",
    "    def __init__(self,name,age,branch):\n",
    "        self.__name = name\n",
    "        self.__age = age\n",
    "        self.__branch = branch\n",
    "    \n",
    "    def set_name(self,name):\n",
    "        self.__name = name\n",
    "    \n",
    "    def get_name(self):\n",
    "        return self.__name\n",
    "    \n",
    "    def print_data(self):\n",
    "        print(\"Name of student is:\",self.__name)\n",
    "        print(\"Age of student is:\",self.__age)\n",
    "        print(\"Branch of student is:\",self.__branch)"
   ]
  },
  {
   "cell_type": "code",
   "execution_count": 13,
   "id": "fbc6fb6c-f7a8-47be-abc6-5bf871fd1f88",
   "metadata": {},
   "outputs": [],
   "source": [
    "information = info(\"Parth\",20,\"Data Science\")"
   ]
  },
  {
   "cell_type": "code",
   "execution_count": 14,
   "id": "77502e8d-0dff-441f-81df-f2e05a9c3634",
   "metadata": {},
   "outputs": [],
   "source": [
    "information.set_name(\"Onkar\")"
   ]
  },
  {
   "cell_type": "code",
   "execution_count": 15,
   "id": "205a90d0-1fb5-4190-8309-5ebf7d9ccd0b",
   "metadata": {},
   "outputs": [
    {
     "data": {
      "text/plain": [
       "'Onkar'"
      ]
     },
     "execution_count": 15,
     "metadata": {},
     "output_type": "execute_result"
    }
   ],
   "source": [
    "information.get_name()"
   ]
  },
  {
   "cell_type": "code",
   "execution_count": 16,
   "id": "123701d0-a93d-499d-847c-68e91aee3372",
   "metadata": {},
   "outputs": [
    {
     "name": "stdout",
     "output_type": "stream",
     "text": [
      "Name of student is: Onkar\n",
      "Age of student is: 20\n",
      "Branch of student is: Data Science\n"
     ]
    }
   ],
   "source": [
    "information.print_data()"
   ]
  },
  {
   "cell_type": "markdown",
   "id": "51c3da13-7771-4945-979e-d8c86e4e9cfe",
   "metadata": {},
   "source": [
    "Q5.What is method overriding in python? Write a python code to demonstrate method overriding.\n"
   ]
  },
  {
   "cell_type": "markdown",
   "id": "e1d71d63-1cfb-49d2-9d18-63713e613b1e",
   "metadata": {},
   "source": [
    "Method overriding is the property of object oriented programming language allows a subclass or child class to provide a specific implementation of a method that is already provided by one of its super-classes or parent classes.When a method in a subclass has the same name, same parameters or signature and same return type(or sub-type) as a method in its super-class, then the method in the subclass is said to override the method in the super-class.\n"
   ]
  },
  {
   "cell_type": "code",
   "execution_count": 1,
   "id": "29deb5cf-021a-443f-871d-c330ff8fc1de",
   "metadata": {},
   "outputs": [],
   "source": [
    "class university:\n",
    "    def name(self):\n",
    "        print(\"The name of university is Pune university\")"
   ]
  },
  {
   "cell_type": "code",
   "execution_count": 2,
   "id": "89fd6215-7e55-4802-b7ee-f591e2ffcb10",
   "metadata": {},
   "outputs": [],
   "source": [
    "class college(university):\n",
    "    def name(self):\n",
    "        print(\"The name of college is COEP\")"
   ]
  },
  {
   "cell_type": "code",
   "execution_count": 3,
   "id": "b05268eb-531d-4840-83a4-bb4e4748af33",
   "metadata": {},
   "outputs": [],
   "source": [
    "clg = college()"
   ]
  },
  {
   "cell_type": "code",
   "execution_count": 4,
   "id": "ffdb3df7-d4f4-47c1-afeb-acaf9de948ce",
   "metadata": {},
   "outputs": [
    {
     "name": "stdout",
     "output_type": "stream",
     "text": [
      "The name of college is COEP\n"
     ]
    }
   ],
   "source": [
    "clg.name()"
   ]
  },
  {
   "cell_type": "code",
   "execution_count": null,
   "id": "9353c0ae-6882-4336-84ac-f02d8e333ec4",
   "metadata": {},
   "outputs": [],
   "source": []
  }
 ],
 "metadata": {
  "kernelspec": {
   "display_name": "Python 3 (ipykernel)",
   "language": "python",
   "name": "python3"
  },
  "language_info": {
   "codemirror_mode": {
    "name": "ipython",
    "version": 3
   },
   "file_extension": ".py",
   "mimetype": "text/x-python",
   "name": "python",
   "nbconvert_exporter": "python",
   "pygments_lexer": "ipython3",
   "version": "3.10.8"
  }
 },
 "nbformat": 4,
 "nbformat_minor": 5
}
